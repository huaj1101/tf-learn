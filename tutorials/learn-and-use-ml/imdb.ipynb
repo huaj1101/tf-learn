{
  "nbformat": 4,
  "nbformat_minor": 0,
  "metadata": {
    "colab": {
      "name": "imdb.ipynb",
      "version": "0.3.2",
      "provenance": [],
      "include_colab_link": true
    },
    "kernelspec": {
      "name": "python3",
      "display_name": "Python 3"
    },
    "accelerator": "TPU"
  },
  "cells": [
    {
      "cell_type": "markdown",
      "metadata": {
        "id": "view-in-github",
        "colab_type": "text"
      },
      "source": [
        "<a href=\"https://colab.research.google.com/github/huaj1101/tf-learn/blob/master/tutorials/learn-and-use-ml/imdb.ipynb\" target=\"_parent\"><img src=\"https://colab.research.google.com/assets/colab-badge.svg\" alt=\"Open In Colab\"/></a>"
      ]
    },
    {
      "metadata": {
        "id": "QoMCseBG5tnn",
        "colab_type": "code",
        "colab": {
          "base_uri": "https://localhost:8080/",
          "height": 35
        },
        "outputId": "f6f2020b-481b-4813-eee6-4041d5a38c90"
      },
      "cell_type": "code",
      "source": [
        "import tensorflow as tf\n",
        "from tensorflow import keras\n",
        "\n",
        "import numpy as np\n",
        "\n",
        "print(tf.__version__)"
      ],
      "execution_count": 1,
      "outputs": [
        {
          "output_type": "stream",
          "text": [
            "1.13.1\n"
          ],
          "name": "stdout"
        }
      ]
    },
    {
      "metadata": {
        "id": "FE6VpbJC5z-F",
        "colab_type": "code",
        "colab": {
          "base_uri": "https://localhost:8080/",
          "height": 52
        },
        "outputId": "ccb49991-8b13-4d59-cbaf-ee4b76d74513"
      },
      "cell_type": "code",
      "source": [
        "imdb = keras.datasets.imdb\n",
        "\n",
        "(train_data, train_labels), (test_data, test_labels) = imdb.load_data(num_words=10000)"
      ],
      "execution_count": 2,
      "outputs": [
        {
          "output_type": "stream",
          "text": [
            "Downloading data from https://storage.googleapis.com/tensorflow/tf-keras-datasets/imdb.npz\n",
            "17465344/17464789 [==============================] - 0s 0us/step\n"
          ],
          "name": "stdout"
        }
      ]
    },
    {
      "metadata": {
        "id": "ndgW_-Tb55Iq",
        "colab_type": "code",
        "colab": {
          "base_uri": "https://localhost:8080/",
          "height": 52
        },
        "outputId": "cb349db5-213c-46a0-97c5-6f71655bfcab"
      },
      "cell_type": "code",
      "source": [
        "# A dictionary mapping words to an integer index\n",
        "word_index = imdb.get_word_index()\n",
        "\n",
        "# The first indices are reserved\n",
        "word_index = {k:(v+3) for k,v in word_index.items()}\n",
        "word_index[\"<PAD>\"] = 0\n",
        "word_index[\"<START>\"] = 1\n",
        "word_index[\"<UNK>\"] = 2  # unknown\n",
        "word_index[\"<UNUSED>\"] = 3\n",
        "\n",
        "reverse_word_index = dict([(value, key) for (key, value) in word_index.items()])\n",
        "\n",
        "def decode_review(text):\n",
        "    return ' '.join([reverse_word_index.get(i, '?') for i in text])"
      ],
      "execution_count": 3,
      "outputs": [
        {
          "output_type": "stream",
          "text": [
            "Downloading data from https://storage.googleapis.com/tensorflow/tf-keras-datasets/imdb_word_index.json\n",
            "1646592/1641221 [==============================] - 0s 0us/step\n"
          ],
          "name": "stdout"
        }
      ]
    },
    {
      "metadata": {
        "id": "gV9uM-PB5-F9",
        "colab_type": "code",
        "colab": {
          "base_uri": "https://localhost:8080/",
          "height": 55
        },
        "outputId": "c4b00487-cc42-4849-ef80-1d98d5446697"
      },
      "cell_type": "code",
      "source": [
        "decode_review(train_data[0])"
      ],
      "execution_count": 4,
      "outputs": [
        {
          "output_type": "execute_result",
          "data": {
            "text/plain": [
              "\"<START> this film was just brilliant casting location scenery story direction everyone's really suited the part they played and you could just imagine being there robert <UNK> is an amazing actor and now the same being director <UNK> father came from the same scottish island as myself so i loved the fact there was a real connection with this film the witty remarks throughout the film were great it was just brilliant so much that i bought the film as soon as it was released for <UNK> and would recommend it to everyone to watch and the fly fishing was amazing really cried at the end it was so sad and you know what they say if you cry at a film it must have been good and this definitely was also <UNK> to the two little boy's that played the <UNK> of norman and paul they were just brilliant children are often left out of the <UNK> list i think because the stars that play them all grown up are such a big profile for the whole film but these children are amazing and should be praised for what they have done don't you think the whole story was so lovely because it was true and was someone's life after all that was shared with us all\""
            ]
          },
          "metadata": {
            "tags": []
          },
          "execution_count": 4
        }
      ]
    },
    {
      "metadata": {
        "id": "iGknCYqG6CCA",
        "colab_type": "code",
        "colab": {}
      },
      "cell_type": "code",
      "source": [
        "train_data = keras.preprocessing.sequence.pad_sequences(train_data,\n",
        "                                                        value=word_index[\"<PAD>\"],\n",
        "                                                        padding='post',\n",
        "                                                        maxlen=256)\n",
        "\n",
        "test_data = keras.preprocessing.sequence.pad_sequences(test_data,\n",
        "                                                       value=word_index[\"<PAD>\"],\n",
        "                                                       padding='post',\n",
        "                                                       maxlen=256)"
      ],
      "execution_count": 0,
      "outputs": []
    },
    {
      "metadata": {
        "id": "NuFiQBht6FOQ",
        "colab_type": "code",
        "colab": {
          "base_uri": "https://localhost:8080/",
          "height": 329
        },
        "outputId": "b1a21870-efb1-4cc5-931b-b012bc0fa376"
      },
      "cell_type": "code",
      "source": [
        "vocab_size = 10000\n",
        "\n",
        "model = keras.Sequential()\n",
        "model.add(keras.layers.Embedding(vocab_size, 16))\n",
        "model.add(keras.layers.GlobalAveragePooling1D())\n",
        "model.add(keras.layers.Dense(16, activation=tf.nn.relu))\n",
        "model.add(keras.layers.Dense(1, activation=tf.nn.sigmoid))\n",
        "\n",
        "model.summary()"
      ],
      "execution_count": 6,
      "outputs": [
        {
          "output_type": "stream",
          "text": [
            "WARNING:tensorflow:From /usr/local/lib/python3.6/dist-packages/tensorflow/python/ops/resource_variable_ops.py:435: colocate_with (from tensorflow.python.framework.ops) is deprecated and will be removed in a future version.\n",
            "Instructions for updating:\n",
            "Colocations handled automatically by placer.\n",
            "_________________________________________________________________\n",
            "Layer (type)                 Output Shape              Param #   \n",
            "=================================================================\n",
            "embedding (Embedding)        (None, None, 16)          160000    \n",
            "_________________________________________________________________\n",
            "global_average_pooling1d (Gl (None, 16)                0         \n",
            "_________________________________________________________________\n",
            "dense (Dense)                (None, 16)                272       \n",
            "_________________________________________________________________\n",
            "dense_1 (Dense)              (None, 1)                 17        \n",
            "=================================================================\n",
            "Total params: 160,289\n",
            "Trainable params: 160,289\n",
            "Non-trainable params: 0\n",
            "_________________________________________________________________\n"
          ],
          "name": "stdout"
        }
      ]
    },
    {
      "metadata": {
        "id": "dzy6lO236IEQ",
        "colab_type": "code",
        "colab": {}
      },
      "cell_type": "code",
      "source": [
        "model.compile(optimizer=tf.train.AdamOptimizer(),\n",
        "              loss='binary_crossentropy',\n",
        "              metrics=['accuracy'])"
      ],
      "execution_count": 0,
      "outputs": []
    },
    {
      "metadata": {
        "id": "Hx-_-L-g6KZw",
        "colab_type": "code",
        "colab": {}
      },
      "cell_type": "code",
      "source": [
        "x_val = train_data[:10000]\n",
        "partial_x_train = train_data[10000:]\n",
        "\n",
        "y_val = train_labels[:10000]\n",
        "partial_y_train = train_labels[10000:]"
      ],
      "execution_count": 0,
      "outputs": []
    },
    {
      "metadata": {
        "id": "oNYd00kY6ML9",
        "colab_type": "code",
        "colab": {
          "base_uri": "https://localhost:8080/",
          "height": 1473
        },
        "outputId": "3f64abef-a8e6-4926-a5df-f49f6532650f"
      },
      "cell_type": "code",
      "source": [
        "history = model.fit(partial_x_train,\n",
        "                    partial_y_train,\n",
        "                    epochs=40,\n",
        "                    batch_size=512,\n",
        "                    validation_data=(x_val, y_val),\n",
        "                    verbose=1)"
      ],
      "execution_count": 9,
      "outputs": [
        {
          "output_type": "stream",
          "text": [
            "Train on 15000 samples, validate on 10000 samples\n",
            "WARNING:tensorflow:From /usr/local/lib/python3.6/dist-packages/tensorflow/python/ops/math_ops.py:3066: to_int32 (from tensorflow.python.ops.math_ops) is deprecated and will be removed in a future version.\n",
            "Instructions for updating:\n",
            "Use tf.cast instead.\n",
            "Epoch 1/40\n",
            "15000/15000 [==============================] - 1s 69us/sample - loss: 0.6919 - acc: 0.6203 - val_loss: 0.6899 - val_acc: 0.7162\n",
            "Epoch 2/40\n",
            "15000/15000 [==============================] - 1s 55us/sample - loss: 0.6861 - acc: 0.7436 - val_loss: 0.6817 - val_acc: 0.7522\n",
            "Epoch 3/40\n",
            "15000/15000 [==============================] - 1s 53us/sample - loss: 0.6732 - acc: 0.7675 - val_loss: 0.6656 - val_acc: 0.7581\n",
            "Epoch 4/40\n",
            "15000/15000 [==============================] - 1s 53us/sample - loss: 0.6506 - acc: 0.7700 - val_loss: 0.6398 - val_acc: 0.7551\n",
            "Epoch 5/40\n",
            "15000/15000 [==============================] - 1s 54us/sample - loss: 0.6170 - acc: 0.7956 - val_loss: 0.6045 - val_acc: 0.7834\n",
            "Epoch 6/40\n",
            "15000/15000 [==============================] - 1s 54us/sample - loss: 0.5740 - acc: 0.8141 - val_loss: 0.5629 - val_acc: 0.8043\n",
            "Epoch 7/40\n",
            "15000/15000 [==============================] - 1s 56us/sample - loss: 0.5253 - acc: 0.8305 - val_loss: 0.5170 - val_acc: 0.8200\n",
            "Epoch 8/40\n",
            "15000/15000 [==============================] - 1s 56us/sample - loss: 0.4758 - acc: 0.8469 - val_loss: 0.4742 - val_acc: 0.8340\n",
            "Epoch 9/40\n",
            "15000/15000 [==============================] - 1s 57us/sample - loss: 0.4299 - acc: 0.8625 - val_loss: 0.4360 - val_acc: 0.8448\n",
            "Epoch 10/40\n",
            "15000/15000 [==============================] - 1s 54us/sample - loss: 0.3897 - acc: 0.8743 - val_loss: 0.4049 - val_acc: 0.8521\n",
            "Epoch 11/40\n",
            "15000/15000 [==============================] - 1s 55us/sample - loss: 0.3562 - acc: 0.8833 - val_loss: 0.3796 - val_acc: 0.8608\n",
            "Epoch 12/40\n",
            "15000/15000 [==============================] - 1s 57us/sample - loss: 0.3283 - acc: 0.8903 - val_loss: 0.3604 - val_acc: 0.8628\n",
            "Epoch 13/40\n",
            "15000/15000 [==============================] - 1s 57us/sample - loss: 0.3057 - acc: 0.8973 - val_loss: 0.3438 - val_acc: 0.8701\n",
            "Epoch 14/40\n",
            "15000/15000 [==============================] - 1s 56us/sample - loss: 0.2855 - acc: 0.9027 - val_loss: 0.3317 - val_acc: 0.8728\n",
            "Epoch 15/40\n",
            "15000/15000 [==============================] - 1s 57us/sample - loss: 0.2687 - acc: 0.9070 - val_loss: 0.3221 - val_acc: 0.8743\n",
            "Epoch 16/40\n",
            "15000/15000 [==============================] - 1s 56us/sample - loss: 0.2537 - acc: 0.9122 - val_loss: 0.3139 - val_acc: 0.8748\n",
            "Epoch 17/40\n",
            "15000/15000 [==============================] - 1s 55us/sample - loss: 0.2398 - acc: 0.9167 - val_loss: 0.3072 - val_acc: 0.8786\n",
            "Epoch 18/40\n",
            "15000/15000 [==============================] - 1s 57us/sample - loss: 0.2275 - acc: 0.9209 - val_loss: 0.3015 - val_acc: 0.8802\n",
            "Epoch 19/40\n",
            "15000/15000 [==============================] - 1s 57us/sample - loss: 0.2164 - acc: 0.9239 - val_loss: 0.2967 - val_acc: 0.8822\n",
            "Epoch 20/40\n",
            "15000/15000 [==============================] - 1s 57us/sample - loss: 0.2065 - acc: 0.9279 - val_loss: 0.2935 - val_acc: 0.8822\n",
            "Epoch 21/40\n",
            "15000/15000 [==============================] - 1s 55us/sample - loss: 0.1963 - acc: 0.9336 - val_loss: 0.2908 - val_acc: 0.8829\n",
            "Epoch 22/40\n",
            "15000/15000 [==============================] - 1s 56us/sample - loss: 0.1878 - acc: 0.9363 - val_loss: 0.2887 - val_acc: 0.8845\n",
            "Epoch 23/40\n",
            "15000/15000 [==============================] - 1s 53us/sample - loss: 0.1792 - acc: 0.9405 - val_loss: 0.2880 - val_acc: 0.8834\n",
            "Epoch 24/40\n",
            "15000/15000 [==============================] - 1s 52us/sample - loss: 0.1718 - acc: 0.9443 - val_loss: 0.2864 - val_acc: 0.8841\n",
            "Epoch 25/40\n",
            "15000/15000 [==============================] - 1s 54us/sample - loss: 0.1642 - acc: 0.9471 - val_loss: 0.2854 - val_acc: 0.8848\n",
            "Epoch 26/40\n",
            "15000/15000 [==============================] - 1s 53us/sample - loss: 0.1574 - acc: 0.9502 - val_loss: 0.2863 - val_acc: 0.8839\n",
            "Epoch 27/40\n",
            "15000/15000 [==============================] - 1s 54us/sample - loss: 0.1510 - acc: 0.9524 - val_loss: 0.2861 - val_acc: 0.8844\n",
            "Epoch 28/40\n",
            "15000/15000 [==============================] - 1s 54us/sample - loss: 0.1449 - acc: 0.9551 - val_loss: 0.2866 - val_acc: 0.8854\n",
            "Epoch 29/40\n",
            "15000/15000 [==============================] - 1s 57us/sample - loss: 0.1395 - acc: 0.9581 - val_loss: 0.2888 - val_acc: 0.8834\n",
            "Epoch 30/40\n",
            "15000/15000 [==============================] - 1s 58us/sample - loss: 0.1338 - acc: 0.9599 - val_loss: 0.2883 - val_acc: 0.8859\n",
            "Epoch 31/40\n",
            "15000/15000 [==============================] - 1s 58us/sample - loss: 0.1282 - acc: 0.9625 - val_loss: 0.2897 - val_acc: 0.8868\n",
            "Epoch 32/40\n",
            "15000/15000 [==============================] - 1s 60us/sample - loss: 0.1230 - acc: 0.9657 - val_loss: 0.2915 - val_acc: 0.8863\n",
            "Epoch 33/40\n",
            "15000/15000 [==============================] - 1s 57us/sample - loss: 0.1181 - acc: 0.9668 - val_loss: 0.2940 - val_acc: 0.8844\n",
            "Epoch 34/40\n",
            "15000/15000 [==============================] - 1s 55us/sample - loss: 0.1137 - acc: 0.9678 - val_loss: 0.2962 - val_acc: 0.8853\n",
            "Epoch 35/40\n",
            "15000/15000 [==============================] - 1s 55us/sample - loss: 0.1096 - acc: 0.9691 - val_loss: 0.2994 - val_acc: 0.8847\n",
            "Epoch 36/40\n",
            "15000/15000 [==============================] - 1s 55us/sample - loss: 0.1052 - acc: 0.9713 - val_loss: 0.3014 - val_acc: 0.8841\n",
            "Epoch 37/40\n",
            "15000/15000 [==============================] - 1s 56us/sample - loss: 0.1010 - acc: 0.9721 - val_loss: 0.3042 - val_acc: 0.8835\n",
            "Epoch 38/40\n",
            "15000/15000 [==============================] - 1s 57us/sample - loss: 0.0971 - acc: 0.9739 - val_loss: 0.3081 - val_acc: 0.8831\n",
            "Epoch 39/40\n",
            "15000/15000 [==============================] - 1s 54us/sample - loss: 0.0940 - acc: 0.9748 - val_loss: 0.3118 - val_acc: 0.8813\n",
            "Epoch 40/40\n",
            "15000/15000 [==============================] - 1s 54us/sample - loss: 0.0900 - acc: 0.9769 - val_loss: 0.3143 - val_acc: 0.8826\n"
          ],
          "name": "stdout"
        }
      ]
    },
    {
      "metadata": {
        "id": "CLnF7UMy6OOJ",
        "colab_type": "code",
        "colab": {
          "base_uri": "https://localhost:8080/",
          "height": 52
        },
        "outputId": "8a058eff-bd95-4302-a287-e091a3d8656d"
      },
      "cell_type": "code",
      "source": [
        "results = model.evaluate(test_data, test_labels)\n",
        "\n",
        "print(results)"
      ],
      "execution_count": 10,
      "outputs": [
        {
          "output_type": "stream",
          "text": [
            "25000/25000 [==============================] - 1s 36us/sample - loss: 0.3360 - acc: 0.8713\n",
            "[0.33598491607666015, 0.87132]\n"
          ],
          "name": "stdout"
        }
      ]
    },
    {
      "metadata": {
        "id": "zgWITGpv6XQo",
        "colab_type": "code",
        "colab": {
          "base_uri": "https://localhost:8080/",
          "height": 35
        },
        "outputId": "f4bc50bf-1f73-49a5-b3fc-926b11bfd2ba"
      },
      "cell_type": "code",
      "source": [
        "history_dict = history.history\n",
        "history_dict.keys()"
      ],
      "execution_count": 11,
      "outputs": [
        {
          "output_type": "execute_result",
          "data": {
            "text/plain": [
              "dict_keys(['loss', 'acc', 'val_loss', 'val_acc'])"
            ]
          },
          "metadata": {
            "tags": []
          },
          "execution_count": 11
        }
      ]
    },
    {
      "metadata": {
        "id": "EZr2UZrQ6c06",
        "colab_type": "code",
        "colab": {
          "base_uri": "https://localhost:8080/",
          "height": 377
        },
        "outputId": "43c6ee6f-064f-4d5b-9855-24a00b15861a"
      },
      "cell_type": "code",
      "source": [
        "import matplotlib.pyplot as plt\n",
        "\n",
        "acc = history.history['acc']\n",
        "val_acc = history.history['val_acc']\n",
        "loss = history.history['loss']\n",
        "val_loss = history.history['val_loss']\n",
        "\n",
        "epochs = range(1, len(acc) + 1)\n",
        "\n",
        "# \"bo\" is for \"blue dot\"\n",
        "plt.plot(epochs, loss, 'bo', label='Training loss')\n",
        "# b is for \"solid blue line\"\n",
        "plt.plot(epochs, val_loss, 'b', label='Validation loss')\n",
        "plt.title('Training and validation loss')\n",
        "plt.xlabel('Epochs')\n",
        "plt.ylabel('Loss')\n",
        "plt.legend()\n",
        "\n",
        "plt.show()"
      ],
      "execution_count": 12,
      "outputs": [
        {
          "output_type": "display_data",
          "data": {
            "image/png": "[encoded data removed]",
            "text/plain": [
              "<Figure size 576x396 with 1 Axes>"
            ]
          },
          "metadata": {
            "tags": []
          }
        }
      ]
    },
    {
      "metadata": {
        "id": "JHZ9WgBl6hIo",
        "colab_type": "code",
        "colab": {
          "base_uri": "https://localhost:8080/",
          "height": 377
        },
        "outputId": "9ca742ea-b28c-42d9-87cd-809f2ebe4be3"
      },
      "cell_type": "code",
      "source": [
        "plt.clf()   # clear figure\n",
        "acc_values = history_dict['acc']\n",
        "val_acc_values = history_dict['val_acc']\n",
        "\n",
        "plt.plot(epochs, acc, 'bo', label='Training acc')\n",
        "plt.plot(epochs, val_acc, 'b', label='Validation acc')\n",
        "plt.title('Training and validation accuracy')\n",
        "plt.xlabel('Epochs')\n",
        "plt.ylabel('Accuracy')\n",
        "plt.legend()\n",
        "\n",
        "plt.show()"
      ],
      "execution_count": 13,
      "outputs": [
        {
          "output_type": "display_data",
          "data": {
            "image/png": "[encoded data removed]",
            "text/plain": [
              "<Figure size 576x396 with 1 Axes>"
            ]
          },
          "metadata": {
            "tags": []
          }
        }
      ]
    },
    {
      "metadata": {
        "id": "t_Qjgf8w6jq3",
        "colab_type": "code",
        "colab": {}
      },
      "cell_type": "code",
      "source": [
        ""
      ],
      "execution_count": 0,
      "outputs": []
    }
  ]
}